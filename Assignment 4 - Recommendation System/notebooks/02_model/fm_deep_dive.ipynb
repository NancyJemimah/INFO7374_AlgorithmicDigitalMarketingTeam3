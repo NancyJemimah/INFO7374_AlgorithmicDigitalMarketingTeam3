{
 "cells": [
  {
   "cell_type": "code",
   "execution_count": 1,
   "metadata": {},
   "outputs": [
    {
     "name": "stdout",
     "output_type": "stream",
     "text": [
      "System version: 3.7.4 (default, Aug  9 2019, 18:34:13) [MSC v.1915 64 bit (AMD64)]\n",
      "Xlearn version: 0.4.4\n"
     ]
    }
   ],
   "source": [
    "import time\n",
    "import sys\n",
    "sys.path.append(\"../../\")\n",
    "import os\n",
    "import papermill as pm\n",
    "from tempfile import TemporaryDirectory\n",
    "import xlearn as xl\n",
    "from sklearn.metrics import roc_auc_score\n",
    "import numpy as np\n",
    "import pandas as pd\n",
    "import seaborn as sns\n",
    "%matplotlib notebook\n",
    "from matplotlib import pyplot as plt\n",
    "\n",
    "from reco_utils.common.constants import SEED\n",
    "from reco_utils.common.timer import Timer\n",
    "from reco_utils.recommender.deeprec.deeprec_utils import (\n",
    "    download_deeprec_resources, prepare_hparams\n",
    ")\n",
    "from reco_utils.recommender.deeprec.models.xDeepFM import XDeepFMModel\n",
    "from reco_utils.recommender.deeprec.IO.iterator import FFMTextIterator\n",
    "from reco_utils.tuning.parameter_sweep import generate_param_grid\n",
    "from reco_utils.dataset.pandas_df_utils import LibffmConverter\n",
    "\n",
    "print(\"System version: {}\".format(sys.version))\n",
    "print(\"Xlearn version: {}\".format(xl.__version__))"
   ]
  },
  {
   "cell_type": "code",
   "execution_count": 28,
   "metadata": {},
   "outputs": [
    {
     "data": {
      "text/html": [
       "<div>\n",
       "<style scoped>\n",
       "    .dataframe tbody tr th:only-of-type {\n",
       "        vertical-align: middle;\n",
       "    }\n",
       "\n",
       "    .dataframe tbody tr th {\n",
       "        vertical-align: top;\n",
       "    }\n",
       "\n",
       "    .dataframe thead th {\n",
       "        text-align: right;\n",
       "    }\n",
       "</style>\n",
       "<table border=\"1\" class=\"dataframe\">\n",
       "  <thead>\n",
       "    <tr style=\"text-align: right;\">\n",
       "      <th></th>\n",
       "      <th>rating</th>\n",
       "      <th>field1</th>\n",
       "      <th>field2</th>\n",
       "      <th>field3</th>\n",
       "      <th>field4</th>\n",
       "    </tr>\n",
       "  </thead>\n",
       "  <tbody>\n",
       "    <tr>\n",
       "      <td>0</td>\n",
       "      <td>1</td>\n",
       "      <td>1:1:1</td>\n",
       "      <td>2:7:3</td>\n",
       "      <td>3:8:1.0</td>\n",
       "      <td>4:9:1</td>\n",
       "    </tr>\n",
       "    <tr>\n",
       "      <td>1</td>\n",
       "      <td>0</td>\n",
       "      <td>1:2:1</td>\n",
       "      <td>2:7:4</td>\n",
       "      <td>3:8:2.0</td>\n",
       "      <td>4:10:1</td>\n",
       "    </tr>\n",
       "    <tr>\n",
       "      <td>2</td>\n",
       "      <td>0</td>\n",
       "      <td>1:3:1</td>\n",
       "      <td>2:7:5</td>\n",
       "      <td>3:8:3.0</td>\n",
       "      <td>4:11:1</td>\n",
       "    </tr>\n",
       "    <tr>\n",
       "      <td>3</td>\n",
       "      <td>1</td>\n",
       "      <td>1:4:1</td>\n",
       "      <td>2:7:6</td>\n",
       "      <td>3:8:4.0</td>\n",
       "      <td>4:12:1</td>\n",
       "    </tr>\n",
       "    <tr>\n",
       "      <td>4</td>\n",
       "      <td>1</td>\n",
       "      <td>1:5:1</td>\n",
       "      <td>2:7:7</td>\n",
       "      <td>3:8:5.0</td>\n",
       "      <td>4:13:1</td>\n",
       "    </tr>\n",
       "    <tr>\n",
       "      <td>5</td>\n",
       "      <td>1</td>\n",
       "      <td>1:6:1</td>\n",
       "      <td>2:7:6</td>\n",
       "      <td>3:8:6.0</td>\n",
       "      <td>4:14:1</td>\n",
       "    </tr>\n",
       "  </tbody>\n",
       "</table>\n",
       "</div>"
      ],
      "text/plain": [
       "   rating field1 field2   field3  field4\n",
       "0       1  1:1:1  2:7:3  3:8:1.0   4:9:1\n",
       "1       0  1:2:1  2:7:4  3:8:2.0  4:10:1\n",
       "2       0  1:3:1  2:7:5  3:8:3.0  4:11:1\n",
       "3       1  1:4:1  2:7:6  3:8:4.0  4:12:1\n",
       "4       1  1:5:1  2:7:7  3:8:5.0  4:13:1\n",
       "5       1  1:6:1  2:7:6  3:8:6.0  4:14:1"
      ]
     },
     "execution_count": 28,
     "metadata": {},
     "output_type": "execute_result"
    }
   ],
   "source": [
    "df_feature_original = pd.DataFrame({\n",
    "    'rating': [1, 0, 0, 1, 1,1],\n",
    "    'field1': ['sunshine', 'zeropad', 'nonsense', 'physco', 'datadie','pizza'],\n",
    "    'field2': [3, 4, 5, 6, 7,6],\n",
    "    'field3': [1.0, 2.0, 3.0, 4.0, 5.0,6.0],\n",
    "    'field4': ['jaki', 'monkey', 'mike', 'patta', 'sivakasi','karur']\n",
    "})\n",
    "\n",
    "converter = LibffmConverter().fit(df_feature_original, col_rating='rating')\n",
    "df_out = converter.transform(df_feature_original)\n",
    "df_out"
   ]
  },
  {
   "cell_type": "code",
   "execution_count": 29,
   "metadata": {},
   "outputs": [
    {
     "name": "stdout",
     "output_type": "stream",
     "text": [
      "There are in total 4 fields and 14 features.\n"
     ]
    }
   ],
   "source": [
    "print('There are in total {0} fields and {1} features.'.format(converter.field_count, converter.feature_count))"
   ]
  },
  {
   "cell_type": "code",
   "execution_count": 30,
   "metadata": {
    "tags": [
     "parameters"
    ]
   },
   "outputs": [],
   "source": [
    "# Parameters\n",
    "YAML_FILE_NAME = \"xDeepFM.yaml\"\n",
    "TRAIN_FILE_NAME = \"cretio_tiny_train\"\n",
    "VALID_FILE_NAME = \"cretio_tiny_valid\"\n",
    "TEST_FILE_NAME = \"cretio_tiny_test\"\n",
    "MODEL_FILE_NAME = \"model.out\"\n",
    "OUTPUT_FILE_NAME = \"output.txt\"\n",
    "\n",
    "LEARNING_RATE = 0.2\n",
    "LAMBDA = 0.002\n",
    "# The metrics for binary classification options are \"acc\", \"prec\", \"f1\" and \"auc\"\n",
    "# for regression, options are \"rmse\", \"mae\", \"mape\"\n",
    "METRIC = \"auc\" \n",
    "EPOCH = 10\n",
    "OPT_METHOD = \"sgd\" # options are \"sgd\", \"adagrad\" and \"ftrl\""
   ]
  },
  {
   "cell_type": "code",
   "execution_count": 31,
   "metadata": {},
   "outputs": [
    {
     "name": "stderr",
     "output_type": "stream",
     "text": [
      "100%|████████████████████████████████████████████████████████████████████████████| 10.3k/10.3k [00:02<00:00, 4.51kKB/s]\n"
     ]
    }
   ],
   "source": [
    "tmpdir = TemporaryDirectory()\n",
    "\n",
    "data_path = tmpdir.name\n",
    "yaml_file = os.path.join(data_path, YAML_FILE_NAME)\n",
    "train_file = os.path.join(data_path, TRAIN_FILE_NAME)\n",
    "valid_file = os.path.join(data_path, VALID_FILE_NAME)\n",
    "test_file = os.path.join(data_path, TEST_FILE_NAME)\n",
    "model_file = os.path.join(data_path, MODEL_FILE_NAME)\n",
    "output_file = os.path.join(data_path, OUTPUT_FILE_NAME)\n",
    "\n",
    "if not os.path.exists(yaml_file):\n",
    "    download_deeprec_resources(r'https://recodatasets.blob.core.windows.net/deeprec/', data_path, 'xdeepfmresources.zip')"
   ]
  },
  {
   "cell_type": "code",
   "execution_count": 32,
   "metadata": {},
   "outputs": [
    {
     "name": "stdout",
     "output_type": "stream",
     "text": [
      "C:\\Users\\nancy\\AppData\\Local\\Temp\\tmpbvxcrq4m\\cretio_tiny_train\n"
     ]
    }
   ],
   "source": [
    "print(train_file)"
   ]
  },
  {
   "cell_type": "code",
   "execution_count": 37,
   "metadata": {},
   "outputs": [],
   "source": [
    "# Training task\n",
    "ffm_model = xl.create_ffm()        # Use field-aware factorization machine (ffm)\n",
    "ffm_model.setTrain(train_file)     # Set the path of training dataset\n",
    "ffm_model.setValidate(valid_file)  # Set the path of validation dataset\n",
    "\n",
    "# Parameters:\n",
    "#  0. task: binary classification\n",
    "#  1. learning rate: 0.2\n",
    "#  2. regular lambda: 0.002\n",
    "#  3. evaluation metric: auc\n",
    "#  4. number of epochs: 10\n",
    "#  5. optimization method: sgd\n",
    "param = {\"task\":\"binary\", \n",
    "         \"lr\": LEARNING_RATE, \n",
    "         \"lambda\": LAMBDA, \n",
    "         \"metric\": METRIC,\n",
    "         \"epoch\": EPOCH,\n",
    "         \"opt\": OPT_METHOD\n",
    "        }\n",
    "\n",
    "# Start to train\n",
    "# The trained model will be stored in model.out\n",
    "with Timer() as time_train:\n",
    "    ffm_model.fit(param, model_file)\n",
    "\n",
    "# Prediction task\n",
    "ffm_model.setTest(test_file)  # Set the path of test dataset\n",
    "ffm_model.setSigmoid()        # Convert output to 0-1\n",
    "\n",
    "# Start to predict\n",
    "# The output result will be stored in output.txt\n",
    "with Timer() as time_predict:\n",
    "    ffm_model.predict(model_file, output_file)"
   ]
  },
  {
   "cell_type": "code",
   "execution_count": 38,
   "metadata": {},
   "outputs": [],
   "source": [
    "with open(output_file) as f:\n",
    "    predictions = f.readlines()\n",
    "\n",
    "with open(test_file) as f:\n",
    "    truths = f.readlines()\n",
    "\n",
    "truths = np.array([float(truth.split(' ')[0]) for truth in truths])\n",
    "predictions = np.array([float(prediction.strip('')) for prediction in predictions])\n",
    "\n",
    "auc_score = roc_auc_score(truths, predictions)\n"
   ]
  },
  {
   "cell_type": "code",
   "execution_count": 39,
   "metadata": {},
   "outputs": [
    {
     "name": "stdout",
     "output_type": "stream",
     "text": [
      "(13572,)\n",
      "(13572,)\n"
     ]
    }
   ],
   "source": [
    "print(truths.shape)\n",
    "print(predictions.shape)"
   ]
  },
  {
   "cell_type": "code",
   "execution_count": 41,
   "metadata": {},
   "outputs": [
    {
     "data": {
      "text/plain": [
       "0.7483524524892602"
      ]
     },
     "execution_count": 41,
     "metadata": {},
     "output_type": "execute_result"
    }
   ],
   "source": [
    "auc_score"
   ]
  },
  {
   "cell_type": "code",
   "execution_count": 10,
   "metadata": {},
   "outputs": [
    {
     "name": "stdout",
     "output_type": "stream",
     "text": [
      "Requirement already satisfied: papermill[all] in c:\\users\\nancy\\anaconda3\\lib\\site-packages (2.0.0)\n",
      "Requirement already satisfied: jupyter-client in c:\\users\\nancy\\anaconda3\\lib\\site-packages (from papermill[all]) (5.3.3)\n",
      "Requirement already satisfied: entrypoints in c:\\users\\nancy\\anaconda3\\lib\\site-packages (from papermill[all]) (0.3)\n",
      "Requirement already satisfied: tenacity in c:\\users\\nancy\\anaconda3\\lib\\site-packages (from papermill[all]) (6.1.0)\n",
      "Requirement already satisfied: nbclient in c:\\users\\nancy\\anaconda3\\lib\\site-packages (from papermill[all]) (0.1.0)\n",
      "Requirement already satisfied: click in c:\\users\\nancy\\anaconda3\\lib\\site-packages (from papermill[all]) (7.0)\n",
      "Requirement already satisfied: nbformat in c:\\users\\nancy\\anaconda3\\lib\\site-packages (from papermill[all]) (4.4.0)\n",
      "Requirement already satisfied: requests in c:\\users\\nancy\\anaconda3\\lib\\site-packages (from papermill[all]) (2.23.0)\n",
      "Requirement already satisfied: black; python_version >= \"3.6\" in c:\\users\\nancy\\anaconda3\\lib\\site-packages (from papermill[all]) (19.10b0)\n",
      "Requirement already satisfied: tqdm>=4.32.2 in c:\\users\\nancy\\anaconda3\\lib\\site-packages (from papermill[all]) (4.36.1)\n",
      "Requirement already satisfied: pyyaml in c:\\users\\nancy\\anaconda3\\lib\\site-packages (from papermill[all]) (5.1.2)\n",
      "Requirement already satisfied: ansiwrap in c:\\users\\nancy\\anaconda3\\lib\\site-packages (from papermill[all]) (0.8.4)\n",
      "Requirement already satisfied: azure-datalake-store>=0.0.30; extra == \"all\" in c:\\users\\nancy\\anaconda3\\lib\\site-packages (from papermill[all]) (0.0.48)\n",
      "Requirement already satisfied: boto3; extra == \"all\" in c:\\users\\nancy\\anaconda3\\lib\\site-packages (from papermill[all]) (1.12.28)\n",
      "Requirement already satisfied: pyarrow; extra == \"all\" in c:\\users\\nancy\\anaconda3\\lib\\site-packages (from papermill[all]) (0.16.0)\n",
      "Requirement already satisfied: gcsfs>=0.2.0; extra == \"all\" in c:\\users\\nancy\\anaconda3\\lib\\site-packages (from papermill[all]) (0.6.0)\n",
      "Requirement already satisfied: azure-storage-blob>=12.1.0; extra == \"all\" in c:\\users\\nancy\\anaconda3\\lib\\site-packages (from papermill[all]) (12.3.0)\n",
      "Requirement already satisfied: jupyter-core in c:\\users\\nancy\\anaconda3\\lib\\site-packages (from jupyter-client->papermill[all]) (4.5.0)\n",
      "Requirement already satisfied: pywin32>=1.0; sys_platform == \"win32\" in c:\\users\\nancy\\anaconda3\\lib\\site-packages (from jupyter-client->papermill[all]) (223)\n",
      "Requirement already satisfied: pyzmq>=13 in c:\\users\\nancy\\anaconda3\\lib\\site-packages (from jupyter-client->papermill[all]) (18.1.0)\n",
      "Requirement already satisfied: python-dateutil>=2.1 in c:\\users\\nancy\\anaconda3\\lib\\site-packages (from jupyter-client->papermill[all]) (2.8.0)\n",
      "Requirement already satisfied: traitlets in c:\\users\\nancy\\anaconda3\\lib\\site-packages (from jupyter-client->papermill[all]) (4.3.3)\n",
      "Requirement already satisfied: tornado>=4.1 in c:\\users\\nancy\\anaconda3\\lib\\site-packages (from jupyter-client->papermill[all]) (6.0.3)\n",
      "Requirement already satisfied: six>=1.9.0 in c:\\users\\nancy\\anaconda3\\lib\\site-packages (from tenacity->papermill[all]) (1.14.0)\n",
      "Requirement already satisfied: jsonschema!=2.5.0,>=2.4 in c:\\users\\nancy\\anaconda3\\lib\\site-packages (from nbformat->papermill[all]) (3.0.2)\n",
      "Requirement already satisfied: ipython-genutils in c:\\users\\nancy\\anaconda3\\lib\\site-packages (from nbformat->papermill[all]) (0.2.0)\n",
      "Requirement already satisfied: chardet<4,>=3.0.2 in c:\\users\\nancy\\anaconda3\\lib\\site-packages (from requests->papermill[all]) (3.0.4)\n",
      "Requirement already satisfied: urllib3!=1.25.0,!=1.25.1,<1.26,>=1.21.1 in c:\\users\\nancy\\anaconda3\\lib\\site-packages (from requests->papermill[all]) (1.25.8)\n",
      "Requirement already satisfied: certifi>=2017.4.17 in c:\\users\\nancy\\anaconda3\\lib\\site-packages (from requests->papermill[all]) (2019.11.28)\n",
      "Requirement already satisfied: idna<3,>=2.5 in c:\\users\\nancy\\anaconda3\\lib\\site-packages (from requests->papermill[all]) (2.9)\n",
      "Requirement already satisfied: pathspec<1,>=0.6 in c:\\users\\nancy\\anaconda3\\lib\\site-packages (from black; python_version >= \"3.6\"->papermill[all]) (0.7.0)\n",
      "Requirement already satisfied: appdirs in c:\\users\\nancy\\anaconda3\\lib\\site-packages (from black; python_version >= \"3.6\"->papermill[all]) (1.4.3)\n",
      "Requirement already satisfied: attrs>=18.1.0 in c:\\users\\nancy\\anaconda3\\lib\\site-packages (from black; python_version >= \"3.6\"->papermill[all]) (19.2.0)\n",
      "Requirement already satisfied: typed-ast>=1.4.0 in c:\\users\\nancy\\anaconda3\\lib\\site-packages (from black; python_version >= \"3.6\"->papermill[all]) (1.4.1)\n",
      "Requirement already satisfied: regex in c:\\users\\nancy\\anaconda3\\lib\\site-packages (from black; python_version >= \"3.6\"->papermill[all]) (2020.2.20)\n",
      "Requirement already satisfied: toml>=0.9.4 in c:\\users\\nancy\\anaconda3\\lib\\site-packages (from black; python_version >= \"3.6\"->papermill[all]) (0.10.0)\n",
      "Requirement already satisfied: textwrap3>=0.9.2 in c:\\users\\nancy\\anaconda3\\lib\\site-packages (from ansiwrap->papermill[all]) (0.9.2)\n",
      "Requirement already satisfied: adal>=0.4.2 in c:\\users\\nancy\\anaconda3\\lib\\site-packages (from azure-datalake-store>=0.0.30; extra == \"all\"->papermill[all]) (1.2.2)\n",
      "Requirement already satisfied: cffi in c:\\users\\nancy\\anaconda3\\lib\\site-packages (from azure-datalake-store>=0.0.30; extra == \"all\"->papermill[all]) (1.12.3)\n",
      "Requirement already satisfied: s3transfer<0.4.0,>=0.3.0 in c:\\users\\nancy\\anaconda3\\lib\\site-packages (from boto3; extra == \"all\"->papermill[all]) (0.3.3)\n",
      "Requirement already satisfied: botocore<1.16.0,>=1.15.28 in c:\\users\\nancy\\anaconda3\\lib\\site-packages (from boto3; extra == \"all\"->papermill[all]) (1.15.28)\n",
      "Requirement already satisfied: jmespath<1.0.0,>=0.7.1 in c:\\users\\nancy\\anaconda3\\lib\\site-packages (from boto3; extra == \"all\"->papermill[all]) (0.9.5)\n",
      "Requirement already satisfied: numpy>=1.14 in c:\\users\\nancy\\anaconda3\\lib\\site-packages (from pyarrow; extra == \"all\"->papermill[all]) (1.18.1)\n",
      "Requirement already satisfied: google-auth-oauthlib in c:\\users\\nancy\\anaconda3\\lib\\site-packages (from gcsfs>=0.2.0; extra == \"all\"->papermill[all]) (0.4.1)\n",
      "Requirement already satisfied: decorator in c:\\users\\nancy\\anaconda3\\lib\\site-packages (from gcsfs>=0.2.0; extra == \"all\"->papermill[all]) (4.4.0)\n",
      "Requirement already satisfied: fsspec>=0.6.0 in c:\\users\\nancy\\anaconda3\\lib\\site-packages (from gcsfs>=0.2.0; extra == \"all\"->papermill[all]) (0.6.3)\n",
      "Requirement already satisfied: google-auth>=1.2 in c:\\users\\nancy\\anaconda3\\lib\\site-packages (from gcsfs>=0.2.0; extra == \"all\"->papermill[all]) (1.11.2)\n",
      "Requirement already satisfied: azure-core<2.0.0,>=1.2.2 in c:\\users\\nancy\\anaconda3\\lib\\site-packages (from azure-storage-blob>=12.1.0; extra == \"all\"->papermill[all]) (1.3.0)\n",
      "Requirement already satisfied: msrest>=0.6.10 in c:\\users\\nancy\\anaconda3\\lib\\site-packages (from azure-storage-blob>=12.1.0; extra == \"all\"->papermill[all]) (0.6.11)\n",
      "Requirement already satisfied: cryptography>=2.1.4 in c:\\users\\nancy\\anaconda3\\lib\\site-packages (from azure-storage-blob>=12.1.0; extra == \"all\"->papermill[all]) (2.7)\n",
      "Requirement already satisfied: pyrsistent>=0.14.0 in c:\\users\\nancy\\anaconda3\\lib\\site-packages (from jsonschema!=2.5.0,>=2.4->nbformat->papermill[all]) (0.15.4)\n",
      "Requirement already satisfied: setuptools in c:\\users\\nancy\\anaconda3\\lib\\site-packages (from jsonschema!=2.5.0,>=2.4->nbformat->papermill[all]) (45.2.0)\n",
      "Requirement already satisfied: PyJWT>=1.0.0 in c:\\users\\nancy\\anaconda3\\lib\\site-packages (from adal>=0.4.2->azure-datalake-store>=0.0.30; extra == \"all\"->papermill[all]) (1.7.1)\n",
      "Requirement already satisfied: pycparser in c:\\users\\nancy\\anaconda3\\lib\\site-packages (from cffi->azure-datalake-store>=0.0.30; extra == \"all\"->papermill[all]) (2.19)\n",
      "Requirement already satisfied: docutils<0.16,>=0.10 in c:\\users\\nancy\\anaconda3\\lib\\site-packages (from botocore<1.16.0,>=1.15.28->boto3; extra == \"all\"->papermill[all]) (0.15.2)\n",
      "Requirement already satisfied: requests-oauthlib>=0.7.0 in c:\\users\\nancy\\anaconda3\\lib\\site-packages (from google-auth-oauthlib->gcsfs>=0.2.0; extra == \"all\"->papermill[all]) (1.3.0)\n"
     ]
    },
    {
     "name": "stdout",
     "output_type": "stream",
     "text": [
      "Requirement already satisfied: cachetools<5.0,>=2.0.0 in c:\\users\\nancy\\anaconda3\\lib\\site-packages (from google-auth>=1.2->gcsfs>=0.2.0; extra == \"all\"->papermill[all]) (4.0.0)\n",
      "Requirement already satisfied: rsa<4.1,>=3.1.4 in c:\\users\\nancy\\anaconda3\\lib\\site-packages (from google-auth>=1.2->gcsfs>=0.2.0; extra == \"all\"->papermill[all]) (4.0)\n",
      "Requirement already satisfied: pyasn1-modules>=0.2.1 in c:\\users\\nancy\\anaconda3\\lib\\site-packages (from google-auth>=1.2->gcsfs>=0.2.0; extra == \"all\"->papermill[all]) (0.2.8)\n",
      "Requirement already satisfied: isodate>=0.6.0 in c:\\users\\nancy\\anaconda3\\lib\\site-packages (from msrest>=0.6.10->azure-storage-blob>=12.1.0; extra == \"all\"->papermill[all]) (0.6.0)\n",
      "Requirement already satisfied: asn1crypto>=0.21.0 in c:\\users\\nancy\\anaconda3\\lib\\site-packages (from cryptography>=2.1.4->azure-storage-blob>=12.1.0; extra == \"all\"->papermill[all]) (1.0.1)\n",
      "Requirement already satisfied: oauthlib>=3.0.0 in c:\\users\\nancy\\anaconda3\\lib\\site-packages (from requests-oauthlib>=0.7.0->google-auth-oauthlib->gcsfs>=0.2.0; extra == \"all\"->papermill[all]) (3.1.0)\n",
      "Requirement already satisfied: pyasn1>=0.1.3 in c:\\users\\nancy\\anaconda3\\lib\\site-packages (from rsa<4.1,>=3.1.4->google-auth>=1.2->gcsfs>=0.2.0; extra == \"all\"->papermill[all]) (0.4.8)\n"
     ]
    }
   ],
   "source": [
    "!pip install papermill[all]"
   ]
  },
  {
   "cell_type": "code",
   "execution_count": 11,
   "metadata": {},
   "outputs": [
    {
     "name": "stdout",
     "output_type": "stream",
     "text": [
      "Training takes 37.12s and predicting takes 1.70s.\n"
     ]
    }
   ],
   "source": [
    "print('Training takes {0:.2f}s and predicting takes {1:.2f}s.'.format(time_train.interval, time_predict.interval))"
   ]
  },
  {
   "cell_type": "code",
   "execution_count": 12,
   "metadata": {},
   "outputs": [],
   "source": [
    "param_dict = {\n",
    "    \"lr\": [0.0001, 0.001, 0.01],\n",
    "    \"lambda\": [0.001, 0.01, 0.1]\n",
    "}\n",
    "\n",
    "param_grid = generate_param_grid(param_dict)"
   ]
  },
  {
   "cell_type": "code",
   "execution_count": 13,
   "metadata": {},
   "outputs": [],
   "source": [
    "auc_scores = []\n",
    "\n",
    "with Timer() as time_tune:\n",
    "    for param in param_grid:\n",
    "        ffm_model = xl.create_ffm()       \n",
    "        ffm_model.setTrain(train_file)     \n",
    "        ffm_model.setValidate(valid_file)\n",
    "        ffm_model.fit(param, model_file)\n",
    "\n",
    "        ffm_model.setTest(test_file)  \n",
    "        ffm_model.setSigmoid()        \n",
    "        ffm_model.predict(model_file, output_file)\n",
    "\n",
    "        with open(output_file) as f:\n",
    "            predictions = f.readlines()\n",
    "\n",
    "        with open(test_file) as f:\n",
    "            truths = f.readlines()\n",
    "\n",
    "        truths = np.array([float(truth.split(' ')[0]) for truth in truths])\n",
    "        predictions = np.array([float(prediction.strip('')) for prediction in predictions])\n",
    "\n",
    "        auc_scores.append(roc_auc_score(truths, predictions))"
   ]
  },
  {
   "cell_type": "code",
   "execution_count": 19,
   "metadata": {},
   "outputs": [
    {
     "name": "stdout",
     "output_type": "stream",
     "text": [
      "Tuning by grid search takes 8.0 min\n"
     ]
    }
   ],
   "source": [
    "print('Tuning by grid search takes {0:.2} min'.format(time_tune.interval / 60))"
   ]
  },
  {
   "cell_type": "code",
   "execution_count": 20,
   "metadata": {},
   "outputs": [
    {
     "data": {
      "text/html": [
       "<div>\n",
       "<style scoped>\n",
       "    .dataframe tbody tr th:only-of-type {\n",
       "        vertical-align: middle;\n",
       "    }\n",
       "\n",
       "    .dataframe tbody tr th {\n",
       "        vertical-align: top;\n",
       "    }\n",
       "\n",
       "    .dataframe thead th {\n",
       "        text-align: right;\n",
       "    }\n",
       "</style>\n",
       "<table border=\"1\" class=\"dataframe\">\n",
       "  <thead>\n",
       "    <tr style=\"text-align: right;\">\n",
       "      <th>Lambda</th>\n",
       "      <th>0.001</th>\n",
       "      <th>0.010</th>\n",
       "      <th>0.100</th>\n",
       "    </tr>\n",
       "    <tr>\n",
       "      <th>LR</th>\n",
       "      <th></th>\n",
       "      <th></th>\n",
       "      <th></th>\n",
       "    </tr>\n",
       "  </thead>\n",
       "  <tbody>\n",
       "    <tr>\n",
       "      <td>0.0001</td>\n",
       "      <td>0.5528</td>\n",
       "      <td>0.6135</td>\n",
       "      <td>0.7216</td>\n",
       "    </tr>\n",
       "    <tr>\n",
       "      <td>0.0010</td>\n",
       "      <td>0.5502</td>\n",
       "      <td>0.6121</td>\n",
       "      <td>0.7248</td>\n",
       "    </tr>\n",
       "    <tr>\n",
       "      <td>0.0100</td>\n",
       "      <td>0.5460</td>\n",
       "      <td>0.6168</td>\n",
       "      <td>0.7241</td>\n",
       "    </tr>\n",
       "  </tbody>\n",
       "</table>\n",
       "</div>"
      ],
      "text/plain": [
       "Lambda   0.001   0.010   0.100\n",
       "LR                            \n",
       "0.0001  0.5528  0.6135  0.7216\n",
       "0.0010  0.5502  0.6121  0.7248\n",
       "0.0100  0.5460  0.6168  0.7241"
      ]
     },
     "execution_count": 20,
     "metadata": {},
     "output_type": "execute_result"
    }
   ],
   "source": [
    "auc_scores = [float('%.4f' % x) for x in auc_scores]\n",
    "auc_scores_array = np.reshape(auc_scores, (len(param_dict[\"lr\"]), len(param_dict[\"lambda\"]))) \n",
    "\n",
    "auc_df = pd.DataFrame(\n",
    "    data=auc_scores_array, \n",
    "    index=pd.Index(param_dict[\"lr\"], name=\"LR\"), \n",
    "    columns=pd.Index(param_dict[\"lambda\"], name=\"Lambda\")\n",
    ")\n",
    "auc_df"
   ]
  },
  {
   "cell_type": "code",
   "execution_count": 21,
   "metadata": {},
   "outputs": [
    {
     "data": {
      "text/plain": [
       "<matplotlib.axes._subplots.AxesSubplot at 0x1dad19bfb08>"
      ]
     },
     "execution_count": 21,
     "metadata": {},
     "output_type": "execute_result"
    },
    {
     "data": {
      "image/png": "[encoded data removed]",
      "text/plain": [
       "<Figure size 432x288 with 1 Axes>"
      ]
     },
     "metadata": {
      "needs_background": "light"
     },
     "output_type": "display_data"
    }
   ],
   "source": [
    "fig, ax = plt.subplots()\n",
    "sns.heatmap(auc_df, cbar=False, annot=True, fmt=\".4g\")"
   ]
  }
 ],
 "metadata": {
  "celltoolbar": "Tags",
  "kernelspec": {
   "display_name": "Python 3",
   "language": "python",
   "name": "python3"
  },
  "language_info": {
   "codemirror_mode": {
    "name": "ipython",
    "version": 3
   },
   "file_extension": ".py",
   "mimetype": "text/x-python",
   "name": "python",
   "nbconvert_exporter": "python",
   "pygments_lexer": "ipython3",
   "version": "3.7.4"
  }
 },
 "nbformat": 4,
 "nbformat_minor": 2
}
